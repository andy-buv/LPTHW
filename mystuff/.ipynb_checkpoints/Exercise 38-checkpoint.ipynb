{
 "cells": [
  {
   "cell_type": "markdown",
   "metadata": {},
   "source": [
    "EXERCISE 38\n",
    "# Doing Things to Lists\n",
    "\n",
    "You have learned about lists. When you learned about `while-loops`, you \"appended\" numbers to the end of a list and printed them out. There was also Study Drills where you were supposed to find all the other things you can do to lists in the Python documentation. That was a while back, so go find in the book where you did that and review if you do not know what I'm talking about.\n",
    "\n",
    "Found it? Remember it? Good. When you did this, you had a list and you \"called\" the function append on it. However, you may not really understand what's going on, so let's see what we can do to lists. \n",
    "\n",
    "When you type Python code that reads `mystuff.append('hello')`, you are actually setting of a chain of events inside Python to cause something to happen to the `mystuff` list. Here's how it works:\n",
    "\n",
    "1. Python sees you mentioned `mystuff` and looks up that variable. It might have to look backward to see if you created it with =, and look and see if it is a function argument or a global variable. Either way, it has to finf the `mystuff` first.\n",
    "\n",
    "2. Once it finds `mystuff` it then hits the `.` (period) operator and starts to look at *variables* that are a part of `mystuff`. Since `mystuff` is a list, it knows that `mystuff` has a bunch of functons. \n",
    "\n",
    "3. It then hits append and compares the name \"append\" to all the ones that `mystuff` says it owns. If append is in there (it is), then it grabs *that* to use. \n",
    "\n",
    "4. Next Python sees the `(` (parenthesis) and realises, \"Oh hey, this should be a function.\" At this point it *calls* (a.k.a. runs, executes) the function just like normally, but instead it calls the function with an *extra* argument.\n",
    "\n",
    "5. That *extra* arguments is ... `mystuff`! I know, weird, right? But that's how Python works so it's best to just remember is and assume that's alright. What happens then, at the end of all this, is a function call that looks like append(`mystuff, 'hello'`) instead of what you read, which is `mystuff.append('hello')`.\n",
    "\n",
    "For the most part you do not have to know that this is going on, but it helps when you get error messages from Python like this:"
   ]
  },
  {
   "cell_type": "markdown",
   "metadata": {},
   "source": [
    "```python\n",
    "Python 2.6.5 (r265:79063, Apr 16 2010, 10:57:41)\n",
    "[GCC 4.4.3] on linux2\n",
    "Type \"help\", \"copyright\", \"credits\" or \"license\" for more information.\n",
    ">>> class Thing(object):\n",
    "...     def test(hi):\n",
    "...         print \"hi\"\n",
    "...\n",
    ">>> a = Thing()\n",
    ">>> a.test(\"hello\")\n",
    "Traceback (most recent call last):\n",
    "  File \"<stdin>\", line 1, in <module>\n",
    "TypeError: test() takes exactly 1 argument (2 given)\n",
    ">>>\n",
    "```"
   ]
  },
  {
   "cell_type": "markdown",
   "metadata": {
    "collapsed": true
   },
   "source": [
    "What was all that? Well, this is me typing into the Python shell and showing you some magic. You haven't seen `class` yet but we'll get into that later. For now, you see how Python said `test() takes exactly 1 argument (2 given)`. If you see this, it means that Python changed `a.test(\"hello\")` to `test(a,\"hello\")` and that somewhere someone messed up and didn't add the argument for `a`.\n",
    "\n",
    "That might be a lot to take in, but we’re going to spend a few exercises getting this concept firm in your brain. To kick things off, here’s an exercise that mixes strings and lists for all kinds of fun.\n"
   ]
  },
  {
   "cell_type": "markdown",
   "metadata": {},
   "source": [
    "```python\n",
    "1 ten_things = \"Apples Oranges Crows Telephone Light Sugar\"\n",
    "2\n",
    "3 print \"Wait there's not 10 things in that list, let's fix that.\" 4\n",
    "5 stuff = ten_things.split(' ')\n",
    "6 more_stuff = [\"Day\", \"Night\", \"Song\", \"Frisbee\", \"Corn\", \"Banana\", \"Girl\", \"Boy\"]\n",
    "7\n",
    "8 while len(stuff) != 10:\n",
    "9 next_one = more_stuff.pop()\n",
    "10 print \"Adding: \", next_one\n",
    "11 stuff.append(next_one)\n",
    "12 print \"There's %d items now.\" % len(stuff)\n",
    "13\n",
    "14 print \"There we go: \", stuff\n",
    "15\n",
    "16 print \"Let's do some things with stuff.\" 17\n",
    "18 print stuff[1]\n",
    "19 print stuff[-1] # whoa! fancy\n",
    "20 print stuff.pop()\n",
    "21 print ' '.join(stuff) # what? cool!\n",
    "22 print '#'.join(stuff[3:5]) # super stellar!\n",
    "```\n"
   ]
  },
  {
   "cell_type": "markdown",
   "metadata": {},
   "source": [
    "## What You Should See\n",
    "\n",
    "```\n",
    "$ python ex38.py\n",
    "Wait there's not 10 things in that list, let's fix that.\n",
    "Adding: Boy\n",
    "There's 7 items now.\n",
    "Adding: Girl\n",
    "There's 8 items now.\n",
    "Adding: Banana\n",
    "There's 9 items now.\n",
    "Adding: Corn\n",
    "There's 10 items now.\n",
    "There we go: ['Apples', 'Oranges', 'Crows', 'Telephone', 'Light', 'Sugar',\n",
    "'Boy', 'Girl', 'Banana', 'Corn'] Let's do some things with stuff. Oranges\n",
    "Corn\n",
    "Corn\n",
    "Apples Oranges Crows Telephone Light Sugar Boy Girl Banana Telephone#Light\n",
    "```\n",
    "\n",
    "## Study Drills\n",
    "\n",
    "\n",
    "1. Take each function that is called, and go through the steps outlined above to translate them to what Python does. For example, `' '.join(things)` is `join(' ', things)`.\n",
    "2. Translate these two ways to view the function calls. For example, `' '.join(things)` reads as, “Join things with ‘ ‘ between them.” Meanwhile, `join(' ', things)` means, “Call join with ‘ ‘ and things.” Understand how they are really the same thing.\n",
    "3. Go read about “object-oriented programming” online. Confused? I was too. Do not worry. You will learn enough to be dangerous, and you can slowly learn more later.\n",
    "4. Read up on what a “class” is in Python. *Do not read about how other languages use the word “class.”* That will only mess you up.\n",
    "5. What’s the relationship between `dir(something)` and the “class” of something?\n",
    "6. If you do not have any idea what I’m talking about, do not worry. Programmers like to feel smart, so they invented object-oriented programming, named it OOP, and then used it way too much. If you think that’s hard, you should try to use “functional programming.”\n",
    "\n",
    "## Common Student Questions\n",
    "\n",
    "**Didn’t you say to not use while-loops?**\n",
    "Yes, so just remember sometimes you can break the rules if you have a good reason. Only idiots are slaves to rules all the time.\n",
    "\n",
    "**What does `stuff[3:5]` do?**\n",
    "That’s getting a “slice” from the stuff list that is from element 3 to element 4, meaning it does *not* include element 5. It’s similar to how range(3,5) would work.\n",
    "\n",
    "**Why does `join(' ', stuff)` not work?**\n",
    "The way the documentation for `join` is written doesn’t make sense. It does not work like that and is instead a method you call on the *inserted* string to put between the list to be joined. Rewrite it like `' '.join(stuff)`."
   ]
  },
  {
   "cell_type": "code",
   "execution_count": null,
   "metadata": {
    "collapsed": true
   },
   "outputs": [],
   "source": []
  }
 ],
 "metadata": {
  "anaconda-cloud": {},
  "kernelspec": {
   "display_name": "Python [Root]",
   "language": "python",
   "name": "Python [Root]"
  },
  "language_info": {
   "codemirror_mode": {
    "name": "ipython",
    "version": 2
   },
   "file_extension": ".py",
   "mimetype": "text/x-python",
   "name": "python",
   "nbconvert_exporter": "python",
   "pygments_lexer": "ipython2",
   "version": "2.7.12"
  }
 },
 "nbformat": 4,
 "nbformat_minor": 0
}
