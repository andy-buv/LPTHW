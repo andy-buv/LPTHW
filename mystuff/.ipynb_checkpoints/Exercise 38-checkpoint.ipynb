{
 "cells": [
  {
   "cell_type": "markdown",
   "metadata": {},
   "source": [
    "# Doing Things to Lists\n",
    "\n",
    "You have learned about lists. When you learned about `while-loops`, you \"appended\" numbers to the end of a list and printed them out. There was also Study Drills where you were supposed to find all the other things you can do to lists in the Python documentation. That was a while back, so go find in the book where you did that and review if you do not know what I'm talking about.\n",
    "\n",
    "Found it? Remember it? Good. When you did this, you had a list and you \"called\" the function append on it. However, you may not really understand what's going on, so let's see what we can do to lists. \n",
    "\n",
    "When you type Python code that reads `mystuff.append('hello')`, you are actually setting of a chain of events inside Python to cause something to happen to the `mystuff` list. Here's how it works:\n",
    "\n",
    "1. Python sees you mentioned `mystuff` and looks up that variable. It might have to look backward to see if you created it with =, and look and see if it is a function argument or a global variable. Either way, it has to finf the `mystuff` first.\n",
    "\n",
    "2. Once it finds `mystuff` it then hits the `.` (period) operator and starts to look at *variables* that are a part of `mystuff`. Since `mystuff` is a list, it knows that `mystuff` has a bunch of functons. \n",
    "\n",
    "3. It then hits append and compares the name \"append\" to all the ones that `mystuff` says it owns. If append is in there (it is), then it grabs *that* to use. \n",
    "\n",
    "4. Next Python sees the `(` (parenthesis) and realises, \"Oh hey, this should be a function.\" At this point it *calls* (a.k.a. runs, executes) the function just like normally, but instead it calls the function with an *extra* argument.\n",
    "\n",
    "5. That *extra* arguments is ... `mystuff`! I know, weird, right? But that's how Python works so it's best to just remember is and assume that's alright. What happens then, at the end of all this, is a function call that looks like append(`mystuff, 'hello'`) instead of what you read, which is `mystuff.append('hello')`.\n",
    "\n",
    "For the most part you do not have to know that this is going on, but it helps when you get error messages from Python like this:"
   ]
  },
  {
   "cell_type": "markdown",
   "metadata": {},
   "source": [
    "```python\n",
    "Python 2.6.5 (r265:79063, Apr 16 2010, 10:57:41)\n",
    "[GCC 4.4.3] on linux2\n",
    "Type \"help\", \"copyright\", \"credits\" or \"license\" for more information.\n",
    ">>> class Thing(object):\n",
    "...     def test(hi):\n",
    "...         print \"hi\"\n",
    "...\n",
    ">>> a = Thing()\n",
    ">>> a.test(\"hello\")\n",
    "Traceback (most recent call last):\n",
    "  File \"<stdin>\", line 1, in <module>\n",
    "TypeError: test() takes exactly 1 argument (2 given)\n",
    ">>>\n",
    "```"
   ]
  },
  {
   "cell_type": "code",
   "execution_count": null,
   "metadata": {
    "collapsed": true
   },
   "outputs": [],
   "source": []
  }
 ],
 "metadata": {
  "anaconda-cloud": {},
  "kernelspec": {
   "display_name": "Python [Root]",
   "language": "python",
   "name": "Python [Root]"
  },
  "language_info": {
   "codemirror_mode": {
    "name": "ipython",
    "version": 2
   },
   "file_extension": ".py",
   "mimetype": "text/x-python",
   "name": "python",
   "nbconvert_exporter": "python",
   "pygments_lexer": "ipython2",
   "version": "2.7.12"
  }
 },
 "nbformat": 4,
 "nbformat_minor": 0
}
